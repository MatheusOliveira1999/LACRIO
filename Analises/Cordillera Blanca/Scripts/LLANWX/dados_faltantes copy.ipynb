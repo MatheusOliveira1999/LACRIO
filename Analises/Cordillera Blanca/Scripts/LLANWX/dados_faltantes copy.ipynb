{
 "cells": [
  {
   "cell_type": "code",
   "execution_count": 1,
   "metadata": {},
   "outputs": [],
   "source": [
    "import pandas as pd\n",
    "import numpy as np\n",
    "import matplotlib.pyplot as plt"
   ]
  },
  {
   "cell_type": "code",
   "execution_count": 2,
   "metadata": {},
   "outputs": [
    {
     "name": "stderr",
     "output_type": "stream",
     "text": [
      "/tmp/ipykernel_5529/123364272.py:2: DtypeWarning: Columns (9) have mixed types. Specify dtype option on import or set low_memory=False.\n",
      "  df = pd.read_csv(f, encoding=\"latin1\")\n"
     ]
    }
   ],
   "source": [
    "f = \"../../Weather Station Data/Llanganuco_LLANWX_12Jul04_10May19.csv\"\n",
    "df = pd.read_csv(f, encoding=\"latin1\")\n"
   ]
  },
  {
   "cell_type": "code",
   "execution_count": 3,
   "metadata": {},
   "outputs": [],
   "source": [
    "\n",
    "\n",
    "# Carregar e preparar os dados (substitua pelo seu DataFrame real)\n",
    "df['Datetime'] = pd.to_datetime(df['Datetime'], format='%m/%d/%Y %H:%M')\n",
    "\n",
    "# Remover duplicatas (caso existam) mantendo a primeira ocorrência\n",
    "df = df.drop_duplicates(subset=['Datetime'])\n",
    "\n",
    "# Determinar o intervalo de anos\n",
    "start_year = df['Datetime'].min().year\n",
    "end_year = df['Datetime'].max().year\n",
    "\n",
    "# Criar o intervalo completo de datas para os anos inteiros\n",
    "full_date_range = pd.date_range(\n",
    "    start=f'{start_year}-01-01', \n",
    "    end=f'{end_year}-12-31', \n",
    "    freq='D'\n",
    ")\n",
    "\n",
    "# Reindexar o DataFrame para o intervalo completo de datas\n",
    "df_full = df.set_index('Datetime').reindex(full_date_range)\n",
    "\n"
   ]
  },
  {
   "cell_type": "markdown",
   "metadata": {},
   "source": [
    "PRECIPITAÇÃO"
   ]
  },
  {
   "cell_type": "code",
   "execution_count": 4,
   "metadata": {},
   "outputs": [
    {
     "name": "stdout",
     "output_type": "stream",
     "text": [
      "Ano: 2004\n",
      "Quantidade de valores NaN: 322\n",
      "Percentual de valores NaN: 87.98%\n",
      "\n",
      "Ano: 2005\n",
      "Quantidade de valores NaN: 70\n",
      "Percentual de valores NaN: 19.18%\n",
      "\n",
      "Ano: 2006\n",
      "Quantidade de valores NaN: 282\n",
      "Percentual de valores NaN: 77.26%\n",
      "\n",
      "Ano: 2007\n",
      "Quantidade de valores NaN: 196\n",
      "Percentual de valores NaN: 53.70%\n",
      "\n",
      "Ano: 2008\n",
      "Quantidade de valores NaN: 0\n",
      "Percentual de valores NaN: 0.00%\n",
      "\n",
      "Ano: 2009\n",
      "Quantidade de valores NaN: 171\n",
      "Percentual de valores NaN: 46.85%\n",
      "\n",
      "Ano: 2010\n",
      "Quantidade de valores NaN: 98\n",
      "Percentual de valores NaN: 26.85%\n",
      "\n",
      "Ano: 2011\n",
      "Quantidade de valores NaN: 337\n",
      "Percentual de valores NaN: 92.33%\n",
      "\n",
      "Ano: 2012\n",
      "Quantidade de valores NaN: 366\n",
      "Percentual de valores NaN: 100.00%\n",
      "\n",
      "Ano: 2013\n",
      "Quantidade de valores NaN: 365\n",
      "Percentual de valores NaN: 100.00%\n",
      "\n",
      "Ano: 2014\n",
      "Quantidade de valores NaN: 240\n",
      "Percentual de valores NaN: 65.75%\n",
      "\n",
      "Ano: 2015\n",
      "Quantidade de valores NaN: 234\n",
      "Percentual de valores NaN: 64.11%\n",
      "\n",
      "Ano: 2016\n",
      "Quantidade de valores NaN: 0\n",
      "Percentual de valores NaN: 0.00%\n",
      "\n",
      "Ano: 2017\n",
      "Quantidade de valores NaN: 59\n",
      "Percentual de valores NaN: 16.16%\n",
      "\n",
      "Ano: 2018\n",
      "Quantidade de valores NaN: 0\n",
      "Percentual de valores NaN: 0.00%\n",
      "\n",
      "Ano: 2019\n",
      "Quantidade de valores NaN: 235\n",
      "Percentual de valores NaN: 64.38%\n",
      "\n"
     ]
    }
   ],
   "source": [
    "# Certifique-se de que o índice esteja no formato datetime\n",
    "df_full.index = pd.to_datetime(df_full.index)\n",
    "\n",
    "# Criar uma série com o ano a partir do índice\n",
    "df_full['Year'] = df_full.index.year\n",
    "\n",
    "# Contar valores NaN para cada ano\n",
    "nan_count_by_year = df_full.groupby('Year')['Precipitation (mm)'].apply(lambda x: x.isna().sum())\n",
    "\n",
    "# Contar o total de valores para cada ano\n",
    "total_count_by_year = df_full.groupby('Year')['Precipitation (mm)'].size()\n",
    "\n",
    "# Calcular o percentual de NaN para cada ano\n",
    "nan_percentage_by_year = (nan_count_by_year / total_count_by_year) * 100\n",
    "\n",
    "# Exibir resultados\n",
    "for year in nan_count_by_year.index:\n",
    "    print(f\"Ano: {year}\")\n",
    "    print(f\"Quantidade de valores NaN: {nan_count_by_year[year]}\")\n",
    "    print(f\"Percentual de valores NaN: {nan_percentage_by_year[year]:.2f}%\\n\")\n",
    "\n"
   ]
  },
  {
   "cell_type": "code",
   "execution_count": 5,
   "metadata": {},
   "outputs": [
    {
     "name": "stdout",
     "output_type": "stream",
     "text": [
      "A quantidade de valores NaN na coluna 'Precipitation (mm)' é: 2975\n",
      "Os valores NaN representam 50.91% do total de dados na coluna 'Precipitation (mm)'.\n"
     ]
    }
   ],
   "source": [
    "# Contador de valores ausentes para Precipitation (mm)\n",
    "nan_count_precipitation = df_full['Precipitation (mm)'].isna().sum()\n",
    "\n",
    "# Total de valores no intervalo completo de datas\n",
    "total_count = df_full['Precipitation (mm)'].size\n",
    "\n",
    "# Percentual de NaN\n",
    "nan_percentage_precipitation = (nan_count_precipitation / total_count) * 100\n",
    "\n",
    "# Exibir resultados\n",
    "print(f\"A quantidade de valores NaN na coluna 'Precipitation (mm)' é: {nan_count_precipitation}\")\n",
    "print(f\"Os valores NaN representam {nan_percentage_precipitation:.2f}% do total de dados na coluna 'Precipitation (mm)'.\")\n"
   ]
  },
  {
   "cell_type": "markdown",
   "metadata": {},
   "source": [
    "TEMPERATURA"
   ]
  },
  {
   "cell_type": "code",
   "execution_count": 6,
   "metadata": {},
   "outputs": [
    {
     "name": "stdout",
     "output_type": "stream",
     "text": [
      "Ano: 2004\n",
      "Quantidade de valores NaN: 260\n",
      "Percentual de valores NaN: 71.04%\n",
      "\n",
      "Ano: 2005\n",
      "Quantidade de valores NaN: 129\n",
      "Percentual de valores NaN: 35.34%\n",
      "\n",
      "Ano: 2006\n",
      "Quantidade de valores NaN: 253\n",
      "Percentual de valores NaN: 69.32%\n",
      "\n",
      "Ano: 2007\n",
      "Quantidade de valores NaN: 196\n",
      "Percentual de valores NaN: 53.70%\n",
      "\n",
      "Ano: 2008\n",
      "Quantidade de valores NaN: 0\n",
      "Percentual de valores NaN: 0.00%\n",
      "\n",
      "Ano: 2009\n",
      "Quantidade de valores NaN: 171\n",
      "Percentual de valores NaN: 46.85%\n",
      "\n",
      "Ano: 2010\n",
      "Quantidade de valores NaN: 98\n",
      "Percentual de valores NaN: 26.85%\n",
      "\n",
      "Ano: 2011\n",
      "Quantidade de valores NaN: 337\n",
      "Percentual de valores NaN: 92.33%\n",
      "\n",
      "Ano: 2012\n",
      "Quantidade de valores NaN: 366\n",
      "Percentual de valores NaN: 100.00%\n",
      "\n",
      "Ano: 2013\n",
      "Quantidade de valores NaN: 365\n",
      "Percentual de valores NaN: 100.00%\n",
      "\n",
      "Ano: 2014\n",
      "Quantidade de valores NaN: 240\n",
      "Percentual de valores NaN: 65.75%\n",
      "\n",
      "Ano: 2015\n",
      "Quantidade de valores NaN: 234\n",
      "Percentual de valores NaN: 64.11%\n",
      "\n",
      "Ano: 2016\n",
      "Quantidade de valores NaN: 0\n",
      "Percentual de valores NaN: 0.00%\n",
      "\n",
      "Ano: 2017\n",
      "Quantidade de valores NaN: 59\n",
      "Percentual de valores NaN: 16.16%\n",
      "\n",
      "Ano: 2018\n",
      "Quantidade de valores NaN: 0\n",
      "Percentual de valores NaN: 0.00%\n",
      "\n",
      "Ano: 2019\n",
      "Quantidade de valores NaN: 235\n",
      "Percentual de valores NaN: 64.38%\n",
      "\n"
     ]
    }
   ],
   "source": [
    "# Certifique-se de que o índice esteja no formato datetime\n",
    "df_full.index = pd.to_datetime(df_full.index)\n",
    "\n",
    "# Criar uma série com o ano a partir do índice\n",
    "df_full['Year'] = df_full.index.year\n",
    "\n",
    "# Contar valores NaN para cada ano\n",
    "nan_count_by_year = df_full.groupby('Year')['Temperature (°C)'].apply(lambda x: x.isna().sum())\n",
    "\n",
    "# Contar o total de valores para cada ano\n",
    "total_count_by_year = df_full.groupby('Year')['Temperature (°C)'].size()\n",
    "\n",
    "# Calcular o percentual de NaN para cada ano\n",
    "nan_percentage_by_year = (nan_count_by_year / total_count_by_year) * 100\n",
    "\n",
    "# Exibir resultados\n",
    "for year in nan_count_by_year.index:\n",
    "    print(f\"Ano: {year}\")\n",
    "    print(f\"Quantidade de valores NaN: {nan_count_by_year[year]}\")\n",
    "    print(f\"Percentual de valores NaN: {nan_percentage_by_year[year]:.2f}%\\n\")\n"
   ]
  },
  {
   "cell_type": "code",
   "execution_count": 7,
   "metadata": {},
   "outputs": [
    {
     "name": "stdout",
     "output_type": "stream",
     "text": [
      "A quantidade de valores NaN na coluna 'Temperature (°C)' é: 2943\n",
      "Os valores NaN representam 50.36% do total de dados na coluna 'Temperature (°C)'.\n"
     ]
    }
   ],
   "source": [
    "# Contador de valores ausentes para Temperature (°C)\n",
    "nan_count_temperature = df_full['Temperature (°C)'].isna().sum()\n",
    "\n",
    "# Percentual de NaN para Temperature (°C)\n",
    "nan_percentage_temperature = (nan_count_temperature / total_count) * 100\n",
    "\n",
    "# Exibir resultados para Temperature (°C)\n",
    "print(f\"A quantidade de valores NaN na coluna 'Temperature (°C)' é: {nan_count_temperature}\")\n",
    "print(f\"Os valores NaN representam {nan_percentage_temperature:.2f}% do total de dados na coluna 'Temperature (°C)'.\")\n"
   ]
  },
  {
   "cell_type": "markdown",
   "metadata": {},
   "source": [
    "GRÁFICOS"
   ]
  },
  {
   "cell_type": "code",
   "execution_count": 8,
   "metadata": {},
   "outputs": [
    {
     "data": {
      "image/png": "[encoded data removed]",
      "text/plain": [
       "<Figure size 1000x200 with 1 Axes>"
      ]
     },
     "metadata": {},
     "output_type": "display_data"
    },
    {
     "data": {
      "image/png": "[encoded data removed]",
      "text/plain": [
       "<Figure size 1000x200 with 1 Axes>"
      ]
     },
     "metadata": {},
     "output_type": "display_data"
    }
   ],
   "source": [
    "\n",
    "# Verificar as datas ausentes e presentes para Precipitation e Temperature (°C)\n",
    "missing_precipitation = df_full['Precipitation (mm)'].isna()\n",
    "present_precipitation = ~missing_precipitation\n",
    "\n",
    "missing_temperature = df_full['Temperature (°C)'].isna()\n",
    "present_temperature = ~missing_temperature\n",
    "\n",
    "bar_width = 5  # Ajuste fino da largura da barra\n",
    "\n",
    "# Gráfico para Precipitation\n",
    "plt.figure(figsize=(10, 2))\n",
    "plt.bar(df_full.index[missing_precipitation], np.ones(missing_precipitation.sum()), \n",
    "        color='tomato', label='Missing', width=bar_width)  # Missing data in red\n",
    "plt.bar(df_full.index[present_precipitation], np.ones(present_precipitation.sum()), \n",
    "        color='steelblue', label='Present', width=bar_width)  # Present data in blue\n",
    "plt.title('Missing and Present Data: Precipitation')\n",
    "plt.ylabel('Data Count')\n",
    "plt.xlabel('Date')\n",
    "plt.legend()\n",
    "plt.xticks(rotation=45)\n",
    "plt.tight_layout()\n",
    "plt.show()\n",
    "\n",
    "# Gráfico para Temperature (°C)\n",
    "plt.figure(figsize=(10, 2))\n",
    "plt.bar(df_full.index[missing_temperature], np.ones(missing_temperature.sum()), \n",
    "        color='tomato', label='Missing', width=bar_width)  # Missing data in red\n",
    "plt.bar(df_full.index[present_temperature], np.ones(present_temperature.sum()), \n",
    "        color='steelblue', label='Present', width=bar_width)  # Present data in blue\n",
    "plt.title('Missing and Present Data: Temperature (°C)')\n",
    "plt.ylabel('Data Count')\n",
    "plt.xlabel('Date')\n",
    "plt.legend()\n",
    "plt.xticks(rotation=45)\n",
    "plt.tight_layout()\n",
    "plt.show()\n"
   ]
  }
 ],
 "metadata": {
  "kernelspec": {
   "display_name": ".conda",
   "language": "python",
   "name": "python3"
  },
  "language_info": {
   "codemirror_mode": {
    "name": "ipython",
    "version": 3
   },
   "file_extension": ".py",
   "mimetype": "text/x-python",
   "name": "python",
   "nbconvert_exporter": "python",
   "pygments_lexer": "ipython3",
   "version": "3.12.4"
  }
 },
 "nbformat": 4,
 "nbformat_minor": 2
}
